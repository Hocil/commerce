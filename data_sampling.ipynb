{
 "cells": [
  {
   "cell_type": "code",
   "execution_count": 1,
   "id": "3bd6f0a5",
   "metadata": {},
   "outputs": [],
   "source": [
    "import pandas as pd\n",
    "\n",
    "# 원본 로드 (로컬에서)\n",
    "events = pd.read_csv(\"data/events.csv\")\n",
    "\n",
    "# ① 연도 필터링 (예: 2023년만)\n",
    "events[\"created_at\"] = pd.to_datetime(events[\"created_at\"], errors=\"coerce\")\n",
    "events_2023 = events[events[\"created_at\"].dt.year == 2023]\n",
    "\n",
    "# ② 샘플링 (랜덤 50,000행)\n",
    "sample = events_2023.sample(n=50000, random_state=42)\n",
    "\n",
    "# ③ 저장\n",
    "sample.to_csv(\"data/events_sample.csv\", index=False)"
   ]
  }
 ],
 "metadata": {
  "kernelspec": {
   "display_name": "base",
   "language": "python",
   "name": "python3"
  },
  "language_info": {
   "codemirror_mode": {
    "name": "ipython",
    "version": 3
   },
   "file_extension": ".py",
   "mimetype": "text/x-python",
   "name": "python",
   "nbconvert_exporter": "python",
   "pygments_lexer": "ipython3",
   "version": "3.12.7"
  }
 },
 "nbformat": 4,
 "nbformat_minor": 5
}
